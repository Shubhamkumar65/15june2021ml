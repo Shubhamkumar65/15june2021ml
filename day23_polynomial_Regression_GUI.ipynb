{
 "cells": [
  {
   "cell_type": "code",
   "execution_count": 45,
   "id": "afcafd26-d21d-4579-af5b-0f59152bd289",
   "metadata": {},
   "outputs": [],
   "source": [
    "import pandas as pd\n",
    "import numpy as np\n",
    "import matplotlib.pyplot as plt\n",
    "import warnings\n",
    "warnings.filterwarnings('ignore')"
   ]
  },
  {
   "cell_type": "code",
   "execution_count": 46,
   "id": "517645fb-c250-432f-8e90-f7808e18ed91",
   "metadata": {},
   "outputs": [],
   "source": [
    "from sklearn.linear_model import LinearRegression\n",
    "from sklearn.linear_model import LinearRegression"
   ]
  },
  {
   "cell_type": "code",
   "execution_count": 47,
   "id": "1845836b-59c6-4dcc-a222-65f88c49b2fe",
   "metadata": {},
   "outputs": [],
   "source": [
    "import tkinter as tk"
   ]
  },
  {
   "cell_type": "code",
   "execution_count": 48,
   "id": "fcc21140-eb40-49a7-b6bd-73b9c26f5e3e",
   "metadata": {},
   "outputs": [],
   "source": [
    "m=pd.read_pickle('profit_price_predictor.pkl')\n",
    "\n",
    "app=tk.Tk()\n",
    "app.geometry('450x400')\n",
    "app.title('profit_price_predictor')\n",
    "\n",
    "Administration =tk.Variable(app)\n",
    "RnD1=tk.Variable(app)\n",
    "ms1=tk.Variable(app)\n",
    "\n",
    "m=pd.read_pickle('profit_price_predictor.pkl')\n",
    "\n",
    "predicted_profit=tk.Variable(app)\n",
    "predicted_profit.set('')\n",
    "\n",
    "def profitprediction():\n",
    "    admin=eval(Administration.get())\n",
    "    rnd1=eval(RnD1.get())\n",
    "    Ms1=eval(ms1.get())    \n",
    "    query=pd.DataFrame({'administration':[admin],'rnd1':[rnd1],'ms1':[Ms1]})\n",
    "    predicted_profit.set(round(m.predict(query)[0],2)) \n",
    "    \n",
    "\n",
    "entry_Administration=tk.Entry(app,textvariable = Administration,width=18)\n",
    "entry_Administration.place(x=230,y=50,height=10)\n",
    "label1=tk.Label(app,text='Administration').place(x=5,y=50)\n",
    "\n",
    "entry_RnD1=tk.Entry(app,textvariable=RnD1)\n",
    "entry_RnD1.place(x=230,y=100,height=10)\n",
    "label2=tk.Label(app,text='R&D1').place(x=5,y=100)\n",
    "\n",
    "entry_ms1=tk.Entry(app,textvariable=ms1)\n",
    "entry_ms1.place(x=230,y=150,height=10)\n",
    "label3=tk.Label(app,text='Marketing_spend1').place(x=5,y=150)\n",
    "\n",
    "\n",
    "button=tk.Button(app,text='Best profit ',command=profitprediction,bg='violet',fg='white').place(x=200,y=250,height=30)\n",
    "\n",
    "label4=tk.Label(app,textvariable=predicted_profit,text='predicted_profit').place(x=50,y=300)\n",
    "\n",
    "\n",
    "\n",
    "\n",
    "\n",
    "\n",
    "    \n",
    "    \n",
    "app.mainloop()\n"
   ]
  },
  {
   "cell_type": "code",
   "execution_count": null,
   "id": "2d2543eb-22da-4f26-a5c1-5e73dd062604",
   "metadata": {},
   "outputs": [],
   "source": []
  }
 ],
 "metadata": {
  "kernelspec": {
   "display_name": "Python 3",
   "language": "python",
   "name": "python3"
  },
  "language_info": {
   "codemirror_mode": {
    "name": "ipython",
    "version": 3
   },
   "file_extension": ".py",
   "mimetype": "text/x-python",
   "name": "python",
   "nbconvert_exporter": "python",
   "pygments_lexer": "ipython3",
   "version": "3.8.8"
  }
 },
 "nbformat": 4,
 "nbformat_minor": 5
}
