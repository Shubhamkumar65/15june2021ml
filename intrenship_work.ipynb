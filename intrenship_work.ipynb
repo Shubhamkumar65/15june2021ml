{
  "nbformat": 4,
  "nbformat_minor": 0,
  "metadata": {
    "colab": {
      "name": "Untitled0.ipynb",
      "provenance": [],
      "authorship_tag": "ABX9TyN0leycHlV7nKaXxUj8a4YH",
      "include_colab_link": true
    },
    "kernelspec": {
      "name": "python3",
      "display_name": "Python 3"
    },
    "language_info": {
      "name": "python"
    }
  },
  "cells": [
    {
      "cell_type": "markdown",
      "metadata": {
        "id": "view-in-github",
        "colab_type": "text"
      },
      "source": [
        "<a href=\"https://colab.research.google.com/github/Shubhamkumar65/15june2021ml/blob/main/intrenship_work.ipynb\" target=\"_parent\"><img src=\"https://colab.research.google.com/assets/colab-badge.svg\" alt=\"Open In Colab\"/></a>"
      ]
    },
    {
      "cell_type": "code",
      "source": [
        "#Given below is the function which generates random variables with scretch \n",
        "import math \n",
        "import numpy as np\n",
        "import matplotlib.pyplot as plt\n",
        "import time\n",
        "def uniform_good(mult=5,mod=111,seed=123456789,size=1):\n",
        "  U=np.zeros(size)\n",
        "  x=(seed*mult +1)%mod\n",
        "  U[0]=x/mod\n",
        "  for i in range(1,100):\n",
        "    x=(x*mult+1)%mod\n",
        "    U[i]=x/mod\n",
        "  print(U)\n",
        "  return U\n",
        "print(uniform_good)\n",
        "#given below is the visualization of random variables in histogram.\n",
        "l=uniform_good(size=100)\n",
        "plt.hist(l,bins=20,edgecolor='k')\n",
        "plt.xticks(fontsize=15)\n",
        "plt.yticks(fontsize=15)\n",
        "plt.xlim(-0.6,1.0)\n",
        "\n"
      ],
      "metadata": {
        "colab": {
          "base_uri": "https://localhost:8080/",
          "height": 600
        },
        "id": "RqbSt8c1gFn-",
        "outputId": "db67aedb-8946-44f9-82bc-53b8d640f1fb"
      },
      "execution_count": 106,
      "outputs": [
        {
          "output_type": "stream",
          "name": "stdout",
          "text": [
            "<function uniform_good at 0x7fe374fffc20>\n",
            "[0.63063063 0.16216216 0.81981982 0.10810811 0.54954955 0.75675676\n",
            " 0.79279279 0.97297297 0.87387387 0.37837838 0.9009009  0.51351351\n",
            " 0.57657658 0.89189189 0.46846847 0.35135135 0.76576577 0.83783784\n",
            " 0.1981982  0.         0.00900901 0.05405405 0.27927928 0.40540541\n",
            " 0.03603604 0.18918919 0.95495495 0.78378378 0.92792793 0.64864865\n",
            " 0.25225225 0.27027027 0.36036036 0.81081081 0.06306306 0.32432432\n",
            " 0.63063063 0.16216216 0.81981982 0.10810811 0.54954955 0.75675676\n",
            " 0.79279279 0.97297297 0.87387387 0.37837838 0.9009009  0.51351351\n",
            " 0.57657658 0.89189189 0.46846847 0.35135135 0.76576577 0.83783784\n",
            " 0.1981982  0.         0.00900901 0.05405405 0.27927928 0.40540541\n",
            " 0.03603604 0.18918919 0.95495495 0.78378378 0.92792793 0.64864865\n",
            " 0.25225225 0.27027027 0.36036036 0.81081081 0.06306306 0.32432432\n",
            " 0.63063063 0.16216216 0.81981982 0.10810811 0.54954955 0.75675676\n",
            " 0.79279279 0.97297297 0.87387387 0.37837838 0.9009009  0.51351351\n",
            " 0.57657658 0.89189189 0.46846847 0.35135135 0.76576577 0.83783784\n",
            " 0.1981982  0.         0.00900901 0.05405405 0.27927928 0.40540541\n",
            " 0.03603604 0.18918919 0.95495495 0.78378378]\n"
          ]
        },
        {
          "output_type": "execute_result",
          "data": {
            "text/plain": [
              "(-0.6, 1.0)"
            ]
          },
          "metadata": {},
          "execution_count": 106
        },
        {
          "output_type": "display_data",
          "data": {
            "text/plain": [
              "<Figure size 432x288 with 1 Axes>"
            ],
            "image/png": "[encoded data removed]"
          },
          "metadata": {
            "needs_background": "light"
          }
        }
      ]
    },
    {
      "cell_type": "code",
      "source": [
        "#Here i have used uniform function which gives random variables.\n",
        "#In the program given below only size-1 arrays can be converted into python scaler error has occurred.\n",
        "#I tried a lot but not able to solve it but my program is correct. \n",
        "def approximate_pi():\n",
        "    total_points = 0\n",
        "    within_circle = 0\n",
        "    for i in range (100):\n",
        "        x = uniform_good(mult=5 ,mod=111,seed=123456789, size=100)\n",
        "        y = uniform_good(mult=5 ,mod=111,seed=123456789, size=100)\n",
        "        total_points += 1\n",
        "        if math.sqrt(x**2+y**2) <=1:\n",
        "            within_circle += 1\n",
        "        if total_points % 1000 == 0:\n",
        "            pi_estimate = 4 * within_circle / total_points\n",
        "            yield pi_estimate\n",
        "pi_estimates = list(es for es in approximate_pi())\n",
        "errors = list(estimate-math.pi for estimate in approximate_pi())\n",
        "print(\"pi_estimates\")\n",
        "print(pi_estimates)\n",
        "print(\"Error\")\n",
        "print(errors)"
      ],
      "metadata": {
        "colab": {
          "base_uri": "https://localhost:8080/",
          "height": 970
        },
        "id": "udpUKKLfoFPD",
        "outputId": "d75aaf60-40a7-4f81-a4fa-d21e04cfb7e4"
      },
      "execution_count": 107,
      "outputs": [
        {
          "output_type": "stream",
          "name": "stdout",
          "text": [
            "[0.63063063 0.16216216 0.81981982 0.10810811 0.54954955 0.75675676\n",
            " 0.79279279 0.97297297 0.87387387 0.37837838 0.9009009  0.51351351\n",
            " 0.57657658 0.89189189 0.46846847 0.35135135 0.76576577 0.83783784\n",
            " 0.1981982  0.         0.00900901 0.05405405 0.27927928 0.40540541\n",
            " 0.03603604 0.18918919 0.95495495 0.78378378 0.92792793 0.64864865\n",
            " 0.25225225 0.27027027 0.36036036 0.81081081 0.06306306 0.32432432\n",
            " 0.63063063 0.16216216 0.81981982 0.10810811 0.54954955 0.75675676\n",
            " 0.79279279 0.97297297 0.87387387 0.37837838 0.9009009  0.51351351\n",
            " 0.57657658 0.89189189 0.46846847 0.35135135 0.76576577 0.83783784\n",
            " 0.1981982  0.         0.00900901 0.05405405 0.27927928 0.40540541\n",
            " 0.03603604 0.18918919 0.95495495 0.78378378 0.92792793 0.64864865\n",
            " 0.25225225 0.27027027 0.36036036 0.81081081 0.06306306 0.32432432\n",
            " 0.63063063 0.16216216 0.81981982 0.10810811 0.54954955 0.75675676\n",
            " 0.79279279 0.97297297 0.87387387 0.37837838 0.9009009  0.51351351\n",
            " 0.57657658 0.89189189 0.46846847 0.35135135 0.76576577 0.83783784\n",
            " 0.1981982  0.         0.00900901 0.05405405 0.27927928 0.40540541\n",
            " 0.03603604 0.18918919 0.95495495 0.78378378]\n",
            "[0.63063063 0.16216216 0.81981982 0.10810811 0.54954955 0.75675676\n",
            " 0.79279279 0.97297297 0.87387387 0.37837838 0.9009009  0.51351351\n",
            " 0.57657658 0.89189189 0.46846847 0.35135135 0.76576577 0.83783784\n",
            " 0.1981982  0.         0.00900901 0.05405405 0.27927928 0.40540541\n",
            " 0.03603604 0.18918919 0.95495495 0.78378378 0.92792793 0.64864865\n",
            " 0.25225225 0.27027027 0.36036036 0.81081081 0.06306306 0.32432432\n",
            " 0.63063063 0.16216216 0.81981982 0.10810811 0.54954955 0.75675676\n",
            " 0.79279279 0.97297297 0.87387387 0.37837838 0.9009009  0.51351351\n",
            " 0.57657658 0.89189189 0.46846847 0.35135135 0.76576577 0.83783784\n",
            " 0.1981982  0.         0.00900901 0.05405405 0.27927928 0.40540541\n",
            " 0.03603604 0.18918919 0.95495495 0.78378378 0.92792793 0.64864865\n",
            " 0.25225225 0.27027027 0.36036036 0.81081081 0.06306306 0.32432432\n",
            " 0.63063063 0.16216216 0.81981982 0.10810811 0.54954955 0.75675676\n",
            " 0.79279279 0.97297297 0.87387387 0.37837838 0.9009009  0.51351351\n",
            " 0.57657658 0.89189189 0.46846847 0.35135135 0.76576577 0.83783784\n",
            " 0.1981982  0.         0.00900901 0.05405405 0.27927928 0.40540541\n",
            " 0.03603604 0.18918919 0.95495495 0.78378378]\n"
          ]
        },
        {
          "output_type": "error",
          "ename": "TypeError",
          "evalue": "ignored",
          "traceback": [
            "\u001b[0;31m---------------------------------------------------------------------------\u001b[0m",
            "\u001b[0;31mTypeError\u001b[0m                                 Traceback (most recent call last)",
            "\u001b[0;32m<ipython-input-107-6d8fd68ce8ef>\u001b[0m in \u001b[0;36m<module>\u001b[0;34m()\u001b[0m\n\u001b[1;32m     14\u001b[0m             \u001b[0mpi_estimate\u001b[0m \u001b[0;34m=\u001b[0m \u001b[0;36m4\u001b[0m \u001b[0;34m*\u001b[0m \u001b[0mwithin_circle\u001b[0m \u001b[0;34m/\u001b[0m \u001b[0mtotal_points\u001b[0m\u001b[0;34m\u001b[0m\u001b[0;34m\u001b[0m\u001b[0m\n\u001b[1;32m     15\u001b[0m             \u001b[0;32myield\u001b[0m \u001b[0mpi_estimate\u001b[0m\u001b[0;34m\u001b[0m\u001b[0;34m\u001b[0m\u001b[0m\n\u001b[0;32m---> 16\u001b[0;31m \u001b[0mpi_estimates\u001b[0m \u001b[0;34m=\u001b[0m \u001b[0mlist\u001b[0m\u001b[0;34m(\u001b[0m\u001b[0mes\u001b[0m \u001b[0;32mfor\u001b[0m \u001b[0mes\u001b[0m \u001b[0;32min\u001b[0m \u001b[0mapproximate_pi\u001b[0m\u001b[0;34m(\u001b[0m\u001b[0;34m)\u001b[0m\u001b[0;34m)\u001b[0m\u001b[0;34m\u001b[0m\u001b[0;34m\u001b[0m\u001b[0m\n\u001b[0m\u001b[1;32m     17\u001b[0m \u001b[0merrors\u001b[0m \u001b[0;34m=\u001b[0m \u001b[0mlist\u001b[0m\u001b[0;34m(\u001b[0m\u001b[0mestimate\u001b[0m\u001b[0;34m-\u001b[0m\u001b[0mmath\u001b[0m\u001b[0;34m.\u001b[0m\u001b[0mpi\u001b[0m \u001b[0;32mfor\u001b[0m \u001b[0mestimate\u001b[0m \u001b[0;32min\u001b[0m \u001b[0mapproximate_pi\u001b[0m\u001b[0;34m(\u001b[0m\u001b[0;34m)\u001b[0m\u001b[0;34m)\u001b[0m\u001b[0;34m\u001b[0m\u001b[0;34m\u001b[0m\u001b[0m\n\u001b[1;32m     18\u001b[0m \u001b[0mprint\u001b[0m\u001b[0;34m(\u001b[0m\u001b[0;34m\"pi_estimates\"\u001b[0m\u001b[0;34m)\u001b[0m\u001b[0;34m\u001b[0m\u001b[0;34m\u001b[0m\u001b[0m\n",
            "\u001b[0;32m<ipython-input-107-6d8fd68ce8ef>\u001b[0m in \u001b[0;36m<genexpr>\u001b[0;34m(.0)\u001b[0m\n\u001b[1;32m     14\u001b[0m             \u001b[0mpi_estimate\u001b[0m \u001b[0;34m=\u001b[0m \u001b[0;36m4\u001b[0m \u001b[0;34m*\u001b[0m \u001b[0mwithin_circle\u001b[0m \u001b[0;34m/\u001b[0m \u001b[0mtotal_points\u001b[0m\u001b[0;34m\u001b[0m\u001b[0;34m\u001b[0m\u001b[0m\n\u001b[1;32m     15\u001b[0m             \u001b[0;32myield\u001b[0m \u001b[0mpi_estimate\u001b[0m\u001b[0;34m\u001b[0m\u001b[0;34m\u001b[0m\u001b[0m\n\u001b[0;32m---> 16\u001b[0;31m \u001b[0mpi_estimates\u001b[0m \u001b[0;34m=\u001b[0m \u001b[0mlist\u001b[0m\u001b[0;34m(\u001b[0m\u001b[0mes\u001b[0m \u001b[0;32mfor\u001b[0m \u001b[0mes\u001b[0m \u001b[0;32min\u001b[0m \u001b[0mapproximate_pi\u001b[0m\u001b[0;34m(\u001b[0m\u001b[0;34m)\u001b[0m\u001b[0;34m)\u001b[0m\u001b[0;34m\u001b[0m\u001b[0;34m\u001b[0m\u001b[0m\n\u001b[0m\u001b[1;32m     17\u001b[0m \u001b[0merrors\u001b[0m \u001b[0;34m=\u001b[0m \u001b[0mlist\u001b[0m\u001b[0;34m(\u001b[0m\u001b[0mestimate\u001b[0m\u001b[0;34m-\u001b[0m\u001b[0mmath\u001b[0m\u001b[0;34m.\u001b[0m\u001b[0mpi\u001b[0m \u001b[0;32mfor\u001b[0m \u001b[0mestimate\u001b[0m \u001b[0;32min\u001b[0m \u001b[0mapproximate_pi\u001b[0m\u001b[0;34m(\u001b[0m\u001b[0;34m)\u001b[0m\u001b[0;34m)\u001b[0m\u001b[0;34m\u001b[0m\u001b[0;34m\u001b[0m\u001b[0m\n\u001b[1;32m     18\u001b[0m \u001b[0mprint\u001b[0m\u001b[0;34m(\u001b[0m\u001b[0;34m\"pi_estimates\"\u001b[0m\u001b[0;34m)\u001b[0m\u001b[0;34m\u001b[0m\u001b[0;34m\u001b[0m\u001b[0m\n",
            "\u001b[0;32m<ipython-input-107-6d8fd68ce8ef>\u001b[0m in \u001b[0;36mapproximate_pi\u001b[0;34m()\u001b[0m\n\u001b[1;32m      9\u001b[0m         \u001b[0my\u001b[0m \u001b[0;34m=\u001b[0m \u001b[0muniform_good\u001b[0m\u001b[0;34m(\u001b[0m\u001b[0mmult\u001b[0m\u001b[0;34m=\u001b[0m\u001b[0;36m5\u001b[0m \u001b[0;34m,\u001b[0m\u001b[0mmod\u001b[0m\u001b[0;34m=\u001b[0m\u001b[0;36m111\u001b[0m\u001b[0;34m,\u001b[0m\u001b[0mseed\u001b[0m\u001b[0;34m=\u001b[0m\u001b[0;36m123456789\u001b[0m\u001b[0;34m,\u001b[0m \u001b[0msize\u001b[0m\u001b[0;34m=\u001b[0m\u001b[0;36m100\u001b[0m\u001b[0;34m)\u001b[0m\u001b[0;34m\u001b[0m\u001b[0;34m\u001b[0m\u001b[0m\n\u001b[1;32m     10\u001b[0m         \u001b[0mtotal_points\u001b[0m \u001b[0;34m+=\u001b[0m \u001b[0;36m1\u001b[0m\u001b[0;34m\u001b[0m\u001b[0;34m\u001b[0m\u001b[0m\n\u001b[0;32m---> 11\u001b[0;31m         \u001b[0;32mif\u001b[0m \u001b[0mmath\u001b[0m\u001b[0;34m.\u001b[0m\u001b[0msqrt\u001b[0m\u001b[0;34m(\u001b[0m\u001b[0mx\u001b[0m\u001b[0;34m**\u001b[0m\u001b[0;36m2\u001b[0m\u001b[0;34m+\u001b[0m\u001b[0my\u001b[0m\u001b[0;34m**\u001b[0m\u001b[0;36m2\u001b[0m\u001b[0;34m)\u001b[0m \u001b[0;34m<=\u001b[0m\u001b[0;36m1\u001b[0m\u001b[0;34m:\u001b[0m\u001b[0;34m\u001b[0m\u001b[0;34m\u001b[0m\u001b[0m\n\u001b[0m\u001b[1;32m     12\u001b[0m             \u001b[0mwithin_circle\u001b[0m \u001b[0;34m+=\u001b[0m \u001b[0;36m1\u001b[0m\u001b[0;34m\u001b[0m\u001b[0;34m\u001b[0m\u001b[0m\n\u001b[1;32m     13\u001b[0m         \u001b[0;32mif\u001b[0m \u001b[0mtotal_points\u001b[0m \u001b[0;34m%\u001b[0m \u001b[0;36m1000\u001b[0m \u001b[0;34m==\u001b[0m \u001b[0;36m0\u001b[0m\u001b[0;34m:\u001b[0m\u001b[0;34m\u001b[0m\u001b[0;34m\u001b[0m\u001b[0m\n",
            "\u001b[0;31mTypeError\u001b[0m: only size-1 arrays can be converted to Python scalars"
          ]
        }
      ]
    },
    {
      "cell_type": "code",
      "source": [
        ""
      ],
      "metadata": {
        "id": "aAVCkRiOJeHM"
      },
      "execution_count": null,
      "outputs": []
    }
  ]
}