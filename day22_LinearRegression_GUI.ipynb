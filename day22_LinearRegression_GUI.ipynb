{
 "cells": [
  {
   "cell_type": "code",
   "execution_count": 31,
   "id": "279f7ea6-e01e-4ad5-aa9b-811ffe902860",
   "metadata": {},
   "outputs": [],
   "source": [
    "import pandas as pd"
   ]
  },
  {
   "cell_type": "code",
   "execution_count": 32,
   "id": "28183ff4-d505-4b5b-98fd-92a54e0b4d71",
   "metadata": {},
   "outputs": [],
   "source": [
    "from sklearn.model_selection import train_test_split\n",
    "from sklearn.linear_model import LinearRegression"
   ]
  },
  {
   "cell_type": "code",
   "execution_count": 33,
   "id": "8a0f1df3-67e6-48fa-83de-c180bdd646cd",
   "metadata": {},
   "outputs": [],
   "source": [
    "import tkinter as tk"
   ]
  },
  {
   "cell_type": "code",
   "execution_count": 34,
   "id": "93dacc6c-d911-4464-b786-1433ad3a2e9d",
   "metadata": {},
   "outputs": [],
   "source": [
    "import warnings\n",
    "warnings.filterwarnings('ignore')"
   ]
  },
  {
   "cell_type": "code",
   "execution_count": 44,
   "id": "a154acab-00dc-4205-8989-0058af96bce8",
   "metadata": {},
   "outputs": [],
   "source": [
    "m=pd.read_pickle('house_price_predictor.pkl')\n",
    "\n",
    "app=tk.Tk()\n",
    "app.geometry('450x400')\n",
    "app.title('house_price_predictor')\n",
    "\n",
    "income =tk.Variable(app)\n",
    "house_age =tk.Variable(app)\n",
    "rooms=tk.Variable(app)\n",
    "population=tk.Variable(app)\n",
    "m=pd.read_pickle('house_price_predictor.pkl')\n",
    "\n",
    "predicted_price=tk.Variable(app)\n",
    "predicted_price.set('')\n",
    "\n",
    "def houseprice():\n",
    "    inc=eval(income.get())\n",
    "    age=eval(house_age.get())\n",
    "    room=eval(rooms.get())\n",
    "    pop=eval(population.get())         \n",
    "    query=pd.DataFrame({'income':[inc],'house_age':[age],'room':[room],'population':[pop]})\n",
    "    predicted_price.set(round(m.predict(query)[0],2)) \n",
    "    \n",
    "\n",
    "entry_income=tk.Entry(app,textvariable = income,width=18)\n",
    "entry_income.place(x=230,y=60,height=10)\n",
    "label1=tk.Label(app,text='income').place(x=5,y=50)\n",
    "\n",
    "entry_age=tk.Entry(app,textvariable=house_age)\n",
    "entry_age.place(x=230,y=100,height=10)\n",
    "label2=tk.Label(app,text='house_age').place(x=5,y=100)\n",
    "\n",
    "entry_room=tk.Entry(app,textvariable=rooms)\n",
    "entry_room.place(x=230,y=140,height=10)\n",
    "label3=tk.Label(app,text='rooms').place(x=5,y=150)\n",
    "\n",
    "entry_pop=tk.Entry(app,textvariable=population)\n",
    "entry_pop.place(x=230,y=180,height=10)\n",
    "label4=tk.Label(app,text='population').place(x=5,y=200)\n",
    "\n",
    "button=tk.Button(app,text='Best price of house ',command=houseprice,bg='violet',fg='white').place(x=200,y=250,height=30)\n",
    "\n",
    "label5=tk.Label(app,textvariable=predicted_price,text='price_of_house').place(x=50,y=300)\n",
    "\n",
    "\n",
    "\n",
    "\n",
    "\n",
    "\n",
    "    \n",
    "    \n",
    "app.mainloop()"
   ]
  },
  {
   "cell_type": "code",
   "execution_count": null,
   "id": "d0328d65-e049-46b7-954e-b64478fc67fd",
   "metadata": {},
   "outputs": [],
   "source": []
  },
  {
   "cell_type": "code",
   "execution_count": null,
   "id": "85d18840-1e67-4f42-9912-52e454580f08",
   "metadata": {},
   "outputs": [],
   "source": []
  }
 ],
 "metadata": {
  "kernelspec": {
   "display_name": "Python 3",
   "language": "python",
   "name": "python3"
  },
  "language_info": {
   "codemirror_mode": {
    "name": "ipython",
    "version": 3
   },
   "file_extension": ".py",
   "mimetype": "text/x-python",
   "name": "python",
   "nbconvert_exporter": "python",
   "pygments_lexer": "ipython3",
   "version": "3.8.8"
  }
 },
 "nbformat": 4,
 "nbformat_minor": 5
}
